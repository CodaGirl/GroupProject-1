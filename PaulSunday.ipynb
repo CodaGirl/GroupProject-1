{
 "cells": [
  {
   "cell_type": "code",
   "execution_count": 98,
   "metadata": {},
   "outputs": [],
   "source": [
    "%matplotlib inline\n",
    "\n",
    "# Dependencies\n",
    "import numpy as np\n",
    "import pandas as pd\n",
    "import matplotlib.pyplot as plt\n",
    "import requests\n",
    "from census import Census\n",
    "from us import states\n",
    "from pprint import pprint\n",
    "from scipy.stats import sem, ttest_ind\n",
    "import gmaps\n",
    "\n",
    "# Census API Key\n",
    "import sys\n",
    "sys.path.append('../../../..')\n",
    "from config import census_api_key\n",
    "c = Census(census_api_key, year=2016)"
   ]
  },
  {
   "cell_type": "code",
   "execution_count": 99,
   "metadata": {},
   "outputs": [],
   "source": [
    "census_data = c.acs5.get((\"NAME\", \"B01003_001E\", \"B01001_002E\", \"B01001_026E\", \"B02001_002E\", \"B02001_003E\",\"B02001_004E\", \"B02001_005E\",\n",
    "                          \"B02001_006E\", \"B02001_007E\", \"B02001_008E\", \"B03002_012E\", \"B08013_001E\", \"B08012_001E\", \"B15003_001E\",\n",
    "                          \"B15003_002E\", \"B15003_003E\", \"B15003_004E\", \"B15003_005E\", \"B15003_006E\", \"B15003_007E\", \"B15003_008E\",\n",
    "                          \"B15003_009E\", \"B15003_010E\", \"B15003_011E\", \"B15003_012E\", \"B15003_013E\", \"B15003_014E\", \"B15003_015E\",\n",
    "                          \"B15003_016E\", \"B15003_017E\", \"B15003_018E\", \"B15003_019E\", \"B15003_020E\", \"B15003_021E\", \"B15003_022E\",\n",
    "                          \"B15003_023E\", \"B15003_024E\", \"B15003_025E\", \"B17001_001E\", \"B17001_002E\", \"B18135_001E\", \"B18135_003E\", \n",
    "                          \"B18135_014E\", \"B18135_025E\", \"B19001_001E\", \"B19013_001E\", \"B19055_002E\", \"B19056_002E\", \"B19057_002E\",\n",
    "                          \"B19001_002E\", \"B19001_003E\", \"B19001_004E\", \"B19001_005E\", \"B19001_006E\", \"B19001_007E\", \"B19001_008E\",\n",
    "                          \"B19001_009E\", \"B19001_010E\", \"B19001_011E\", \"B19001_012E\", \"B19001_013E\", \"B19001_014E\", \"B19001_015E\",\n",
    "                          \"B19001_016E\", \"B19001_017E\", \"B23025_003E\", \"B23025_005E\", \"B25002_001E\", \"B25002_002E\", \"B25004_001E\",\n",
    "                          \"B25043_007E\", \"B25043_016E\", \"B27010_017E\", \"B27010_033E\", \"B27010_050E\", \"B27010_066E\"),\n",
    "                         {'for': 'zip code tabulation area:*'})\n",
    "\n",
    "census_pd = pd.DataFrame(census_data)\n",
    "\n",
    "#Column Renaming\n",
    "census_pd = census_pd.rename(columns={\"B01003_001E\": \"Population\",\n",
    "                                      \"B01001_002E\": \"Male\",\n",
    "                                      \"B01001_026E\": \"Female\",\n",
    "                                      \"B02001_002E\": \"White\",\n",
    "                                      \"B02001_003E\": \"Black\",\n",
    "                                      \"B02001_004E\": \"Indian\", \n",
    "                                      \"B02001_005E\": \"Asian\",\n",
    "                                      \"B02001_006E\": \"Hawaiian\",\n",
    "                                      \"B02001_007E\": \"Other Race\",\n",
    "                                      \"B02001_008E\": \"Multirace\",\n",
    "                                      \"B03002_012E\": \"Hispanic Origin\",\n",
    "                                      \"B08013_001E\": \"Length of Commute\", \n",
    "                                      \"B08012_001E\": \"Workers over 16\", \n",
    "                                      \"B15003_001E\": \"Age Over 25\",\n",
    "                                      \"B15003_002E\": \"No schooling\",\n",
    "                                      \"B15003_003E\": \"Nursery school\",\n",
    "                                      \"B15003_004E\": \"Kindergarten\",\n",
    "                                      \"B15003_005E\": \"1st grade\",\n",
    "                                      \"B15003_006E\": \"2nd grade\",\n",
    "                                      \"B15003_007E\": \"3rd grade\",\n",
    "                                      \"B15003_008E\": \"4th grade\",\n",
    "                                      \"B15003_009E\": \"5th grade\",\n",
    "                                      \"B15003_010E\": \"6th grade\",\n",
    "                                      \"B15003_011E\": \"7th grade\",\n",
    "                                      \"B15003_012E\": \"8th grade\",\n",
    "                                      \"B15003_013E\": \"9th grade\",\n",
    "                                      \"B15003_014E\": \"10th grade\",\n",
    "                                      \"B15003_015E\": \"11th grade\",\n",
    "                                      \"B15003_016E\": \"12th grade no diploma\",\n",
    "                                      \"B15003_017E\": \"High school diploma\",\n",
    "                                      \"B15003_018E\": \"GED or alter\",\n",
    "                                      \"B15003_019E\": \"College less than 1 year\",\n",
    "                                      \"B15003_020E\": \"Some college 1 or more years\",\n",
    "                                      \"B15003_021E\": \"Associate's degree\",\n",
    "                                      \"B15003_022E\": \"Bachelor's degree\",\n",
    "                                      \"B15003_023E\": \"Master's degree\",\n",
    "                                      \"B15003_024E\": \"Professional school\",\n",
    "                                      \"B15003_025E\": \"Doctorate degree\",\n",
    "                                      \"B17001_001E\": \"Poverty Universe\",\n",
    "                                      \"B17001_002E\": \"Poverty Count\",\n",
    "                                      \"B18135_001E\": \"Non-Instiutionalized\",\n",
    "                                      \"B18135_003E\": \"Disability 1\",                           \n",
    "                                      \"B18135_014E\": \"Disability 2\", \n",
    "                                      \"B18135_025E\": \"Disability 3\",\n",
    "                                      \"B19001_001E\": \"Households\",\n",
    "                                      \"B19013_001E\": \"Per capita\",\n",
    "                                      \"B19057_002E\": \"Cash Public Assistance\",\n",
    "                                      \"B19001_002E\": \"Less than $10k\",\n",
    "                                      \"B19001_003E\": \"$10k\", \n",
    "                                      \"B19001_004E\": \"$15k\",\n",
    "                                      \"B19001_005E\": \"$20k\",\n",
    "                                      \"B19001_006E\": \"$25k\",\n",
    "                                      \"B19001_007E\": \"$30k\",\n",
    "                                      \"B19001_008E\": \"$35k\",\n",
    "                                      \"B19001_009E\": \"$40k\",\n",
    "                                      \"B19001_010E\": \"$45k\",\n",
    "                                      \"B19001_011E\": \"$50k\",\n",
    "                                      \"B19001_012E\": \"$60k\",\n",
    "                                      \"B19001_013E\": \"$75k\",\n",
    "                                      \"B19001_014E\": \"$100k\",\n",
    "                                      \"B19001_015E\": \"$125k\",\n",
    "                                      \"B19001_016E\": \"$150k\",\n",
    "                                      \"B19001_017E\": \"$200k or more\",\n",
    "                                      \"B23025_003E\": \"Civilian Labor Force\", \n",
    "                                      \"B23025_005E\": \"Unemployed Civilian\",\n",
    "                                      \"B25002_001E\": \"Housing Units\", \n",
    "                                      \"B25002_002E\": \"Occupied Housing\",\n",
    "                                      \"B25004_001E\": \"Vacant Housing\",\n",
    "                                      \"B25043_007E\": \"No phone 1\", \n",
    "                                      \"B25043_016E\": \"No phone 2\",\n",
    "                                      \"B27010_017E\": \"No HI1\",\n",
    "                                      \"B27010_033E\": \"No HI2\",\n",
    "                                      \"B27010_050E\": \"No HI3\",\n",
    "                                      \"B27010_066E\": \"No HI4\",\n",
    "                                      \"NAME\": \"Name\", \"zip code tabulation area\": \"Zipcode\"})\n",
    "\n",
    "##################################################\n",
    "# percentage of white people\n",
    "census_pd[\"white rate\"] = 100 * census_pd[\"White\"]/census_pd[\"Population\"]\n",
    "\n",
    "# percentage of black people\n",
    "census_pd[\"black rate\"] = 100 * census_pd[\"Black\"]/census_pd[\"Population\"]\n",
    "\n",
    "# percentage of indian people\n",
    "census_pd[\"indian rate\"] = 100 * census_pd[\"Indian\"]/census_pd[\"Population\"]\n",
    "\n",
    "# percentage of asian people\n",
    "census_pd[\"asian rate\"] = 100 * census_pd[\"Asian\"]/census_pd[\"Population\"]\n",
    "\n",
    "# percentage of hawaiian people\n",
    "census_pd[\"hawaiian rate\"] = 100 * census_pd[\"Hawaiian\"]/census_pd[\"Population\"]\n",
    "\n",
    "# percentage of other race\n",
    "census_pd[\"other race rate\"] = 100 * census_pd[\"Other Race\"]/census_pd[\"Population\"]\n",
    "\n",
    "# percentage of multirace\n",
    "census_pd[\"multirace rate\"] = 100 * census_pd[\"Multirace\"]/census_pd[\"Population\"]\n",
    "\n",
    "# percentage of hispanic\n",
    "census_pd[\"hispanic rate\"] = 100 * census_pd[\"Hispanic Origin\"]/census_pd[\"Population\"]\n",
    "\n",
    "########################################################\n",
    "# percentage of age over 25 with no schooling\n",
    "census_pd[\"No schooling rate\"] = 100 * census_pd[\"No schooling\"]/census_pd[\"Age Over 25\"]\n",
    "\n",
    "# percentage of nursey school to 8th grade\n",
    "census_pd[\"Nurse to 8th\"] = census_pd[\"Kindergarten\"] + census_pd[\"1st grade\"] + census_pd[\"2nd grade\"]\\\n",
    "    + census_pd[\"3rd grade\"] + census_pd[\"4th grade\"] + census_pd[\"5th grade\"] + census_pd[\"6th grade\"]\\\n",
    "    + census_pd[\"7th grade\"] + census_pd[\"8th grade\"]\n",
    "census_pd[\"Nurse to 8th Grade Rate\"] = 100 * census_pd[\"Nurse to 8th\"]/census_pd[\"Age Over 25\"]\n",
    "\n",
    "# percentage of some high school\n",
    "census_pd[\"some high school\"] = census_pd[\"9th grade\"] + census_pd[\"10th grade\"] + census_pd[\"11th grade\"]\\\n",
    "    + census_pd[\"12th grade no diploma\"]\n",
    "census_pd[\"some high school rate\"] = 100 * census_pd[\"some high school\"]/census_pd[\"Age Over 25\"]\n",
    "\n",
    "# percentage of high school graduates or equilvalent\n",
    "census_pd[\"high school grad\"] = census_pd[\"High school diploma\"] + census_pd[\"GED or alter\"] \n",
    "census_pd[\"high school grad rate\"] = 100 * census_pd[\"high school grad\"]/census_pd[\"Age Over 25\"]\n",
    "\n",
    "# percentage of some college\n",
    "census_pd[\"some college\"] = census_pd[\"College less than 1 year\"] + census_pd[\"Some college 1 or more years\"] \n",
    "census_pd[\"some college rate\"] = 100 * census_pd[\"some college\"]/census_pd[\"Age Over 25\"]\n",
    "\n",
    "# percentage of associate degree\n",
    "census_pd[\"Associate's degree rate\"] = 100 * census_pd[\"Associate's degree\"]/census_pd[\"Age Over 25\"]\n",
    "\n",
    "# percentage of bachelor degree\n",
    "census_pd[\"Bachelor's degree rate\"] = 100 * census_pd[\"Bachelor's degree\"]/census_pd[\"Age Over 25\"]\n",
    "\n",
    "# percentage of graduate degree\n",
    "census_pd[\"graduate degree\"] = census_pd[\"Master's degree\"] + census_pd[\"Professional school\"] + census_pd[\"Doctorate degree\"]\n",
    "census_pd[\"graduate degree rate\"] = 100 * census_pd[\"graduate degree\"]/census_pd[\"Age Over 25\"]\n",
    "\n",
    "# high school grad or higher\n",
    "census_pd[\"high school grad and up\"] = census_pd[\"high school grad\"] + census_pd[\"some college\"]\\\n",
    "    + census_pd[\"Associate\\'s degree\"] + census_pd[\"Bachelor\\'s degree\"] + census_pd[\"graduate degree\"]\n",
    "census_pd[\"high school grad and up rate\"] = 100 * census_pd[\"high school grad and up\"]/census_pd[\"Age Over 25\"]\n",
    "\n",
    "# bachelor degree or higher\n",
    "census_pd[\"bachelor or higher\"] = census_pd[\"Bachelor\\'s degree\"] + census_pd[\"graduate degree\"]\n",
    "census_pd[\"bachelor or higher rate\"] = 100 * census_pd[\"bachelor or higher\"]/census_pd[\"Age Over 25\"]\n",
    "\n",
    "######################################################\n",
    "# Add in Poverty Rate (Poverty Count / Poverty Universe) \n",
    "census_pd[\"Poverty Rate\"] = 100 * \\\n",
    "    census_pd[\"Poverty Count\"].astype(\n",
    "         int) / census_pd[\"Poverty Universe\"].astype(int)\n",
    "\n",
    "#####################################################\n",
    "# percentage of less than 10k\n",
    "census_pd[\"Less than 10k rate\"] = 100 * census_pd[\"Less than $10k\"]/census_pd[\"Households\"]\n",
    "\n",
    "# percentage of 10k-25k\n",
    "census_pd[\"10k to 25k\"] = census_pd[\"$10k\"] + census_pd[\"$15k\"] + census_pd[\"$20k\"]\n",
    "census_pd[\"10k to 25k rate\"] = 100 * census_pd[\"10k to 25k\"]/census_pd[\"Households\"]\n",
    "\n",
    "# percentage of 25k-50k\n",
    "census_pd[\"25k to 50k\"] = census_pd[\"$25k\"] + census_pd[\"$30k\"] + census_pd[\"$35k\"] + census_pd[\"$40k\"] + census_pd[\"$45k\"]\n",
    "census_pd[\"25k to 50k rate\"] = 100 * census_pd[\"25k to 50k\"]/census_pd[\"Households\"]\n",
    "\n",
    "# percentage of 50k-75k\n",
    "census_pd[\"50k to 75k\"] = census_pd[\"$50k\"] + census_pd[\"$60k\"]  \n",
    "census_pd[\"50k to 75k rate\"] = 100 * census_pd[\"50k to 75k\"]/census_pd[\"Households\"]\n",
    "\n",
    "# percentage of 75k-100k\n",
    "census_pd[\"75k to 100k rate\"] = 100 * census_pd[\"$75k\"]/census_pd[\"Households\"]\n",
    "\n",
    "# percentage of 100k-150k\n",
    "census_pd[\"100k to 150k\"] = census_pd[\"$100k\"] + census_pd[\"$125k\"]  \n",
    "census_pd[\"100k to 150k rate\"] = 100 * census_pd[\"100k to 150k\"]/census_pd[\"Households\"]\n",
    "\n",
    "# percentage of 75k-100k\n",
    "census_pd[\"150k to 200k rate\"] = 100 * census_pd[\"$150k\"]/census_pd[\"Households\"]\n",
    "\n",
    "# percentage of over 200k\n",
    "census_pd[\"over 200k rate\"] = 100 * census_pd[\"$200k or more\"]/census_pd[\"Households\"]\n",
    "\n",
    "######################################################\n",
    "# Average Commuting (Length of Commute / Workers Over 16) \n",
    "census_pd[\"Average Commute\"] = census_pd[\"Length of Commute\"]/census_pd[\"Workers over 16\"]\n",
    "\n",
    "##########################################################\n",
    "# Percentage of disabled population \n",
    "census_pd[\"Disability\"] = census_pd[\"Disability 1\"] + census_pd[\"Disability 2\"] + census_pd[\"Disability 3\"]\n",
    "census_pd[\"Disability Rate\"] = 100 * census_pd[\"Disability\"] / census_pd[\"Non-Instiutionalized\"]\n",
    "\n",
    "########################################################\n",
    "# Add in Unemployment Rate\n",
    "census_pd[\"Unemployment Rate\"] = 100 * \\\n",
    "    census_pd[\"Unemployed Civilian\"].astype(\n",
    "        int) / census_pd[\"Civilian Labor Force\"].astype(int)\n",
    "\n",
    "#########################################################\n",
    "# Add in Vacancy Rate\n",
    "census_pd[\"Vacancy Rate\"] = 100 * \\\n",
    "    census_pd[\"Vacant Housing\"].astype(\n",
    "        int) / census_pd[\"Housing Units\"].astype(int)\n",
    "\n",
    "###########################################################\n",
    "# Add Health Insurance Rate\n",
    "census_pd[\"No Health Insurance\"] = census_pd[\"No HI1\"] + census_pd[\"No HI2\"] + census_pd[\"No HI3\"] + census_pd[\"No HI4\"]\n",
    "census_pd[\"No Health Insurance Rate\"] = 100 * census_pd[\"No Health Insurance\"] / census_pd[\"Non-Instiutionalized\"]\n",
    "\n",
    "############################################################\n",
    "# public assistance rate\n",
    "census_pd[\"Cash Public Assistance Rate\"] = 100 * (census_pd[\"Cash Public Assistance\"]) / census_pd[\"Households\"]\n"
   ]
  },
  {
   "cell_type": "code",
   "execution_count": 100,
   "metadata": {},
   "outputs": [
    {
     "data": {
      "text/plain": [
       "124"
      ]
     },
     "execution_count": 100,
     "metadata": {},
     "output_type": "execute_result"
    }
   ],
   "source": [
    "# check number of columns 124\n",
    "len(census_pd.columns)\n"
   ]
  },
  {
   "cell_type": "code",
   "execution_count": 101,
   "metadata": {},
   "outputs": [],
   "source": [
    "# open csv of zipcode with lat and long in string\n",
    "latlng_df = pd.read_csv(\"zip code with lat and long.csv\", dtype='str')\n",
    "\n",
    "# open csv of rural percentage with zipcode in string\n",
    "rural_df = pd.read_csv(\"RuralPercent.csv\", dtype='str')\n"
   ]
  },
  {
   "cell_type": "code",
   "execution_count": 102,
   "metadata": {},
   "outputs": [
    {
     "data": {
      "text/plain": [
       "126"
      ]
     },
     "execution_count": 102,
     "metadata": {},
     "output_type": "execute_result"
    }
   ],
   "source": [
    "# merge census pd and latlng df by Zipcode\n",
    "census_pd = pd.merge(census_pd, latlng_df, on=\"Zipcode\")\n",
    "\n",
    "# check length 126\n",
    "len(census_pd.columns)"
   ]
  },
  {
   "cell_type": "code",
   "execution_count": 103,
   "metadata": {},
   "outputs": [
    {
     "data": {
      "text/plain": [
       "128"
      ]
     },
     "execution_count": 103,
     "metadata": {},
     "output_type": "execute_result"
    }
   ],
   "source": [
    "# merge census pd (already with latlng) with rural percentage by zipcode\n",
    "census_pd = pd.merge(census_pd, rural_df, on=\"Zipcode\")\n",
    "\n",
    "# check length 128\n",
    "len(census_pd.columns)"
   ]
  },
  {
   "cell_type": "code",
   "execution_count": 104,
   "metadata": {},
   "outputs": [
    {
     "data": {
      "text/plain": [
       "Rural    19556\n",
       "Urban    13563\n",
       "Name: label, dtype: int64"
      ]
     },
     "execution_count": 104,
     "metadata": {},
     "output_type": "execute_result"
    }
   ],
   "source": [
    "# set conditions for new column of Urban and Rural based off the percentage of rural percent (used later for t tests)\n",
    "conditions = [census_pd[\"Rural Percent\"].astype(float) <= 50,\n",
    "              census_pd[\"Rural Percent\"].astype(float) > 50]\n",
    "\n",
    "# set outputs for new column\n",
    "outputs = [\"Urban\", \"Rural\"]\n",
    "\n",
    "# create series based off of conditions and outputs\n",
    "res = np.select(conditions, outputs, 'fill')\n",
    "\n",
    "# add series to the dataframe\n",
    "census_pd[\"label\"] = pd.Series(res)\n",
    "\n",
    "#check to see rural and urban value count \n",
    "census_pd[\"label\"].value_counts()"
   ]
  },
  {
   "cell_type": "code",
   "execution_count": 105,
   "metadata": {},
   "outputs": [],
   "source": [
    "# export the large dataframe based off census API to csv\n",
    "census_pd.to_csv('censusall.csv')"
   ]
  },
  {
   "cell_type": "code",
   "execution_count": 106,
   "metadata": {},
   "outputs": [
    {
     "data": {
      "text/plain": [
       "32798"
      ]
     },
     "execution_count": 106,
     "metadata": {},
     "output_type": "execute_result"
    }
   ],
   "source": [
    "# read in the large dataframe csv\n",
    "census_pd = pd.read_csv('censusall.csv')\n",
    "\n",
    "# remove from dataframe all rows that do not have any population in census data\n",
    "census_pd = census_pd[census_pd[\"Population\"] != 0]"
   ]
  },
  {
   "cell_type": "code",
   "execution_count": 107,
   "metadata": {},
   "outputs": [],
   "source": [
    "####BUILD THOSE DATAFRAMES####\n",
    "\n",
    "# Race Dataframe\n",
    "census_pd_race = census_pd[[\"Zipcode\", \"LAT\", \"LNG\", \"Rural Percent\", \"Urban Percent\", \"Population\", \"white rate\",\n",
    "                            \"black rate\", \"indian rate\", \"asian rate\", \"hawaiian rate\", \"other race rate\", \"multirace rate\",\n",
    "                            \"hispanic rate\", \"label\"]]\n",
    "\n",
    "# Education DataFrame\n",
    "census_pd_educ = census_pd[[\"Zipcode\", \"LAT\", \"LNG\", \"Rural Percent\", \"Urban Percent\", \"Age Over 25\", \"No schooling rate\",\n",
    "                            \"Nurse to 8th Grade Rate\", \"some high school rate\", \"high school grad rate\", \"some college rate\",\n",
    "                            \"Associate's degree rate\", \"Bachelor's degree rate\", \"graduate degree rate\",\n",
    "                           \"high school grad and up rate\", \"bachelor or higher rate\", \"label\"]]\n",
    "\n",
    "# remove from dataframe all rows that do not have anyone over age of 25 in census data\n",
    "census_pd_educ = census_pd_educ[census_pd_educ[\"Age Over 25\"] != 0]\n",
    "\n",
    "# Income DataFrame (includes cash assistance)\n",
    "census_pd_income = census_pd[[\"Zipcode\", \"LAT\", \"LNG\", \"Rural Percent\", \"Urban Percent\", \"Households\", \"Per capita\", \n",
    "                              \"Less than 10k rate\", \"10k to 25k rate\", \"25k to 50k rate\", \"50k to 75k rate\", \n",
    "                              \"75k to 100k rate\", \"100k to 150k rate\", \"150k to 200k rate\", \"over 200k rate\",\n",
    "                              \"Cash Public Assistance Rate\", \"label\"]]\n",
    "\n",
    "# remove from dataframe all rows that do not have any households in census data\n",
    "census_pd_income = census_pd_income[census_pd_income[\"Households\"] != 0]\n",
    "\n",
    "# Poverty DataFrame\n",
    "census_pd_poverty = census_pd[[\"Zipcode\", \"LAT\", \"LNG\", \"Rural Percent\", \"Urban Percent\", \"Poverty Rate\",\n",
    "                               \"Poverty Universe\", \"label\"]]\n",
    "\n",
    "# remove from dataframe all rows that do not have any poverty universe in census data\n",
    "census_pd_poverty = census_pd_poverty[census_pd_poverty[\"Poverty Universe\"] != 0]\n",
    "\n",
    "# Commute DataFrame\n",
    "census_pd_commute = census_pd[[\"Zipcode\", \"LAT\", \"LNG\", \"Rural Percent\", \"Urban Percent\", \"Average Commute\",\n",
    "                               \"Workers over 16\", \"label\"]]\n",
    "\n",
    "# remove from dataframe all rows that do not have any workers over 16 in census data\n",
    "census_pd_commute = census_pd_commute[census_pd_commute[\"Workers over 16\"] != 0]\n",
    "\n",
    "# Disability and Health Insurance DataFrame\n",
    "census_pd_disable = census_pd[[\"Zipcode\", \"LAT\", \"LNG\", \"Rural Percent\", \"Urban Percent\", \"Disability Rate\",\n",
    "                               \"No Health Insurance Rate\", \"Non-Instiutionalized\", \"label\"]]\n",
    "\n",
    "# remove from dataframe all rows that do not have any non-institutionalized in the census data\n",
    "census_pd_disable = census_pd_disable[census_pd_disable[\"Non-Instiutionalized\"] != 0]\n",
    "\n",
    "# unemployment dataframe\n",
    "census_pd_unemploy = census_pd[[\"Zipcode\", \"LAT\", \"LNG\", \"Rural Percent\", \"Urban Percent\", \"Unemployment Rate\", \n",
    "                                \"Civilian Labor Force\", \"label\"]]\n",
    "\n",
    "# remove from dataframe all rows that do not have any civilian labor force in the census data\n",
    "census_pd_unemploy = census_pd_unemploy[census_pd_unemploy[\"Civilian Labor Force\"] != 0]\n",
    "\n",
    "# vacancy dataframe\n",
    "census_pd_vacant = census_pd[[\"Zipcode\", \"LAT\", \"LNG\", \"Rural Percent\", \"Urban Percent\", \"Vacancy Rate\",\n",
    "                              \"Housing Units\", \"label\"]]\n",
    "\n",
    "# remove from dataframe all rows that do not have any housing units in the census data\n",
    "census_pd_vacant = census_pd_vacant[census_pd_vacant[\"Housing Units\"] != 0]\n"
   ]
  },
  {
   "cell_type": "code",
   "execution_count": 159,
   "metadata": {},
   "outputs": [
    {
     "name": "stdout",
     "output_type": "stream",
     "text": [
      "label\n",
      "Rural    22.20514\n",
      "Urban    11.56161\n",
      "Name: Vacancy Rate, dtype: float64\n"
     ]
    },
    {
     "data": {
      "text/plain": [
       "Text(0.5,1,'Rural v. Urban Vacancy Rate')"
      ]
     },
     "execution_count": 159,
     "metadata": {},
     "output_type": "execute_result"
    },
    {
     "data": {
      "image/png": "[encoded data removed]",
      "text/plain": [
       "<Figure size 432x288 with 1 Axes>"
      ]
     },
     "metadata": {
      "needs_background": "light"
     },
     "output_type": "display_data"
    }
   ],
   "source": [
    "####Bar Chart by Vacancy####\n",
    "\n",
    "# set variable to hold the mean of vacancy rate by urban/rural\n",
    "vacant = census_pd_vacant.groupby([\"label\"]).mean()[\"Vacancy Rate\"]\n",
    "\n",
    "# set x_axis\n",
    "x_axis = [\"Rural\", \"Urban\"]\n",
    "\n",
    "# print to make sure x_axis represent the correct value from the dataframe\n",
    "print(vacant)\n",
    "\n",
    "# create bar plot with lable and title\n",
    "plt.bar(x_axis, vacant, color='y', alpha=0.5, align=\"center\")\n",
    "plt.ylabel(\"Mean Percent Vacancy\")\n",
    "plt.title(\"Rural v. Urban Vacancy Rate\")"
   ]
  },
  {
   "cell_type": "code",
   "execution_count": 109,
   "metadata": {},
   "outputs": [
    {
     "name": "stdout",
     "output_type": "stream",
     "text": [
      "-68.03869497877493\n",
      "0.0\n",
      "The differences between the urban and rural are significant.\n",
      "<class 'numpy.float64'>\n"
     ]
    }
   ],
   "source": [
    "# create variables holding all urban data and rural data separately for t analysis\n",
    "urban = census_pd_vacant.groupby([\"label\"]).get_group(\"Urban\")\n",
    "rural = census_pd_vacant.groupby([\"label\"]).get_group(\"Rural\")\n",
    "\n",
    "# run t-test to determine significance \n",
    "(t_stat, p) = ttest_ind(urban[\"Vacancy Rate\"], rural[\"Vacancy Rate\"], equal_var=False)\n",
    "print(t_stat)\n",
    "print(np.float64(p).astype(str))\n",
    "\n",
    "# if statement\n",
    "if p < 0.05:\n",
    "    print(\"The differences between the urban and rural are significant.\")\n",
    "else:\n",
    "    print(\"The differences between urban and rural are due to chance.\")    "
   ]
  },
  {
   "cell_type": "code",
   "execution_count": 161,
   "metadata": {},
   "outputs": [
    {
     "name": "stdout",
     "output_type": "stream",
     "text": [
      "label\n",
      "Rural     4.921755\n",
      "Urban    11.710298\n",
      "Name: black rate, dtype: float64\n"
     ]
    },
    {
     "data": {
      "text/plain": [
       "Text(0.5,1,'Rural v. Urban African American Rate')"
      ]
     },
     "execution_count": 161,
     "metadata": {},
     "output_type": "execute_result"
    },
    {
     "data": {
      "image/png": "[encoded data removed]",
      "text/plain": [
       "<Figure size 432x288 with 1 Axes>"
      ]
     },
     "metadata": {
      "needs_background": "light"
     },
     "output_type": "display_data"
    }
   ],
   "source": [
    "### create bar graph based on african american rate\n",
    "\n",
    "# set variable to hold the mean of black rate by urban/rural\n",
    "black = census_pd_race.groupby([\"label\"]).mean()[\"black rate\"]\n",
    "\n",
    "# set x-axis\n",
    "x_axis = [\"Rural\", \"Urban\"]\n",
    "\n",
    "# check that black is correct\n",
    "print(black)\n",
    "\n",
    "# create bar graph\n",
    "plt.bar(x_axis, black, color='orange', alpha=0.5, align=\"center\")\n",
    "plt.ylabel(\"Mean Percent African American\")\n",
    "plt.title(\"Rural v. Urban African American Rate\")"
   ]
  },
  {
   "cell_type": "code",
   "execution_count": 111,
   "metadata": {},
   "outputs": [
    {
     "name": "stdout",
     "output_type": "stream",
     "text": [
      "36.77421535926393\n",
      "9.554949297094021e-288\n",
      "The differences between the urban and rural are significant.\n",
      "<class 'numpy.float64'>\n"
     ]
    }
   ],
   "source": [
    "# create variables holding all urban data and rural data separately for t analysis\n",
    "urban = census_pd_race.groupby([\"label\"]).get_group(\"Urban\")\n",
    "rural = census_pd_race.groupby([\"label\"]).get_group(\"Rural\")\n",
    "\n",
    "# t test to deterimine if black rate by urban/rural is significant\n",
    "(t_stat, p) = ttest_ind(urban[\"black rate\"], rural[\"black rate\"], equal_var=False)\n",
    "print(t_stat)\n",
    "print(np.float64(p).astype(str))\n",
    "\n",
    "if p < 0.05:\n",
    "    print(\"The differences between the urban and rural are significant.\")\n",
    "else:\n",
    "    print(\"The differences between urban and rural are due to chance.\")"
   ]
  },
  {
   "cell_type": "code",
   "execution_count": 179,
   "metadata": {},
   "outputs": [
    {
     "name": "stdout",
     "output_type": "stream",
     "text": [
      "label\n",
      "Rural    88.951074\n",
      "Urban    76.190671\n",
      "Name: white rate, dtype: float64\n"
     ]
    },
    {
     "data": {
      "text/plain": [
       "Text(0.5,1,'Rural v. Urban White Rate')"
      ]
     },
     "execution_count": 179,
     "metadata": {},
     "output_type": "execute_result"
    },
    {
     "data": {
      "image/png": "[encoded data removed]",
      "text/plain": [
       "<Figure size 432x288 with 1 Axes>"
      ]
     },
     "metadata": {
      "needs_background": "light"
     },
     "output_type": "display_data"
    }
   ],
   "source": [
    "### bar chart \n",
    "\n",
    "# set variable to hold the mean of white rate by urban/rural\n",
    "white = census_pd_race.groupby([\"label\"]).mean()[\"white rate\"]\n",
    "\n",
    "# set x axis\n",
    "x_axis = [\"Rural\", \"Urban\"]\n",
    "print(white)\n",
    "\n",
    "# create bar chart\n",
    "plt.bar(x_axis, white, color='r', alpha=0.5, align=\"center\")\n",
    "plt.ylabel(\"Mean Percent African American\")\n",
    "plt.title(\"Rural v. Urban White Rate\")"
   ]
  },
  {
   "cell_type": "code",
   "execution_count": 113,
   "metadata": {},
   "outputs": [
    {
     "name": "stdout",
     "output_type": "stream",
     "text": [
      "-55.76633695885791\n",
      "0.0\n",
      "The differences between the urban and rural are significant.\n",
      "<class 'numpy.float64'>\n"
     ]
    }
   ],
   "source": [
    "# create variables holding all urban data and rural data separately for t analysis\n",
    "urban = census_pd_race.groupby([\"label\"]).get_group(\"Urban\")\n",
    "rural = census_pd_race.groupby([\"label\"]).get_group(\"Rural\")\n",
    "\n",
    "# create t-test to determine if relationship is significant\n",
    "(t_stat, p) = ttest_ind(urban[\"white rate\"], rural[\"white rate\"], equal_var=False)\n",
    "print(t_stat)\n",
    "print(np.float64(p).astype(str))\n",
    "\n",
    "if p < 0.05:\n",
    "    print(\"The differences between the urban and rural are significant.\")\n",
    "else:\n",
    "    print(\"The differences between urban and rural are due to chance.\")"
   ]
  },
  {
   "cell_type": "code",
   "execution_count": 162,
   "metadata": {},
   "outputs": [
    {
     "name": "stdout",
     "output_type": "stream",
     "text": [
      "label\n",
      "Rural    16.899750\n",
      "Urban    13.046824\n",
      "Name: Disability Rate, dtype: float64\n"
     ]
    },
    {
     "data": {
      "text/plain": [
       "Text(0.5,1,'Rural v. Urban Disability Rate')"
      ]
     },
     "execution_count": 162,
     "metadata": {},
     "output_type": "execute_result"
    },
    {
     "data": {
      "image/png": "[encoded data removed]",
      "text/plain": [
       "<Figure size 432x288 with 1 Axes>"
      ]
     },
     "metadata": {
      "needs_background": "light"
     },
     "output_type": "display_data"
    }
   ],
   "source": [
    "# set variable to hold the mean of disability rate by urban/rural\n",
    "disable = census_pd_disable.groupby([\"label\"]).mean()[\"Disability Rate\"]\n",
    "\n",
    "# set x axis\n",
    "x_axis = [\"Rural\", \"Urban\"]\n",
    "print(disable)\n",
    "\n",
    "# create bar chart\n",
    "plt.bar(x_axis, disable, color='purple', alpha=0.5, align=\"center\")\n",
    "plt.ylabel(\"Mean Percent Disability\")\n",
    "plt.title(\"Rural v. Urban Disability Rate\")"
   ]
  },
  {
   "cell_type": "code",
   "execution_count": 115,
   "metadata": {},
   "outputs": [
    {
     "name": "stdout",
     "output_type": "stream",
     "text": [
      "-43.86207363344522\n",
      "0.0\n",
      "The differences between the urban and rural are significant.\n",
      "<class 'numpy.float64'>\n"
     ]
    }
   ],
   "source": [
    "# create variables holding all urban data and rural data separately for t analysis\n",
    "urban = census_pd_disable.groupby([\"label\"]).get_group(\"Urban\")\n",
    "rural = census_pd_disable.groupby([\"label\"]).get_group(\"Rural\")\n",
    "\n",
    "# create t test to determine significance \n",
    "(t_stat, p) = ttest_ind(urban[\"Disability Rate\"], rural[\"Disability Rate\"], equal_var=False)\n",
    "print(t_stat)\n",
    "print(np.float64(p).astype(str))\n",
    "\n",
    "if p < 0.05:\n",
    "    print(\"The differences between the urban and rural are significant.\")\n",
    "else:\n",
    "    print(\"The differences between urban and rural are due to chance.\")"
   ]
  },
  {
   "cell_type": "code",
   "execution_count": 163,
   "metadata": {},
   "outputs": [
    {
     "name": "stdout",
     "output_type": "stream",
     "text": [
      "label\n",
      "Rural    11.766129\n",
      "Urban    10.649247\n",
      "Name: No Health Insurance Rate, dtype: float64\n"
     ]
    },
    {
     "data": {
      "text/plain": [
       "Text(0.5,1,'Rural v. Urban No Health Insurance Rate')"
      ]
     },
     "execution_count": 163,
     "metadata": {},
     "output_type": "execute_result"
    },
    {
     "data": {
      "image/png": "[encoded data removed]",
      "text/plain": [
       "<Figure size 432x288 with 1 Axes>"
      ]
     },
     "metadata": {
      "needs_background": "light"
     },
     "output_type": "display_data"
    }
   ],
   "source": [
    "# set variable to hold the mean of health insurance rate by urban/rural\n",
    "health = census_pd_disable.groupby([\"label\"]).mean()[\"No Health Insurance Rate\"]\n",
    "\n",
    "# set x axis\n",
    "x_axis = [\"Rural\", \"Urban\"]\n",
    "print(health)\n",
    "\n",
    "# create bar chart\n",
    "plt.bar(x_axis, health, color='gray', alpha=0.5, align=\"center\")\n",
    "plt.ylabel(\"Mean Percent No Health Insurance\")\n",
    "plt.title(\"Rural v. Urban No Health Insurance Rate\")"
   ]
  },
  {
   "cell_type": "code",
   "execution_count": 117,
   "metadata": {},
   "outputs": [
    {
     "name": "stdout",
     "output_type": "stream",
     "text": [
      "-68.0125016035763\n",
      "0.0\n",
      "The differences between the urban and rural are significant.\n",
      "<class 'numpy.float64'>\n"
     ]
    }
   ],
   "source": [
    "# create variables holding all urban data and rural data separately for t analysis\n",
    "urban = census_pd_disable.groupby([\"label\"]).get_group(\"Urban\")\n",
    "rural = census_pd_disable.groupby([\"label\"]).get_group(\"Rural\")\n",
    "\n",
    "# create t-test\n",
    "(t_stat, p) = ttest_ind(urban[\"No Health Insurance Rate\"], rural[\"Disability Rate\"], equal_var=False)\n",
    "print(t_stat)\n",
    "print(np.float64(p).astype(str))\n",
    "\n",
    "if p < 0.05:\n",
    "    print(\"The differences between the urban and rural are significant.\")\n",
    "else:\n",
    "    print(\"The differences between urban and rural are due to chance.\")"
   ]
  },
  {
   "cell_type": "code",
   "execution_count": 168,
   "metadata": {},
   "outputs": [
    {
     "name": "stdout",
     "output_type": "stream",
     "text": [
      "label\n",
      "Rural    7.155050\n",
      "Urban    7.693533\n",
      "Name: Unemployment Rate, dtype: float64\n"
     ]
    },
    {
     "data": {
      "text/plain": [
       "(0, 10)"
      ]
     },
     "execution_count": 168,
     "metadata": {},
     "output_type": "execute_result"
    },
    {
     "data": {
      "image/png": "[encoded data removed]",
      "text/plain": [
       "<Figure size 432x288 with 1 Axes>"
      ]
     },
     "metadata": {
      "needs_background": "light"
     },
     "output_type": "display_data"
    }
   ],
   "source": [
    "# set variable to hold the mean of unemployment rate by urban/rural\n",
    "unemploy = census_pd_unemploy.groupby([\"label\"]).mean()[\"Unemployment Rate\"]\n",
    "\n",
    "# set x axis\n",
    "x_axis = [\"Rural\", \"Urban\"]\n",
    "print(unemploy)\n",
    "\n",
    "# create bar chart\n",
    "plt.bar(x_axis, unemploy, color='olive', alpha=0.5, align=\"center\")\n",
    "plt.ylabel(\"Mean Percent Unemployed\")\n",
    "plt.title(\"Rural v. Urban Unemployed Rate\")\n",
    "plt.ylim(0,10)"
   ]
  },
  {
   "cell_type": "code",
   "execution_count": 119,
   "metadata": {},
   "outputs": [
    {
     "name": "stdout",
     "output_type": "stream",
     "text": [
      "7.437165179021994\n",
      "1.0540284635412631e-13\n",
      "The differences between the urban and rural are significant.\n",
      "<class 'numpy.float64'>\n"
     ]
    }
   ],
   "source": [
    "# create variables holding all urban data and rural data separately for t analysis\n",
    "urban = census_pd_unemploy.groupby([\"label\"]).get_group(\"Urban\")\n",
    "rural = census_pd_unemploy.groupby([\"label\"]).get_group(\"Rural\")\n",
    "\n",
    "# create t-test\n",
    "(t_stat, p) = ttest_ind(urban[\"Unemployment Rate\"], rural[\"Unemployment Rate\"], equal_var=False)\n",
    "print(t_stat)\n",
    "print(np.float64(p).astype(str))\n",
    "\n",
    "if p < 0.05:\n",
    "    print(\"The differences between the urban and rural are significant.\")\n",
    "else:\n",
    "    print(\"The differences between urban and rural are due to chance.\")"
   ]
  },
  {
   "cell_type": "code",
   "execution_count": 169,
   "metadata": {},
   "outputs": [
    {
     "name": "stdout",
     "output_type": "stream",
     "text": [
      "label\n",
      "Rural    15.058263\n",
      "Urban    15.341282\n",
      "Name: Poverty Rate, dtype: float64\n"
     ]
    },
    {
     "data": {
      "text/plain": [
       "(0, 16)"
      ]
     },
     "execution_count": 169,
     "metadata": {},
     "output_type": "execute_result"
    },
    {
     "data": {
      "image/png": "[encoded data removed]",
      "text/plain": [
       "<Figure size 432x288 with 1 Axes>"
      ]
     },
     "metadata": {
      "needs_background": "light"
     },
     "output_type": "display_data"
    }
   ],
   "source": [
    "##Bar chart for poverty\n",
    "# set variable to hold the mean of poverty rate by urban/rural\n",
    "poverty = census_pd_poverty.groupby([\"label\"]).mean()[\"Poverty Rate\"]\n",
    "\n",
    "# set x axis\n",
    "x_axis = [\"Rural\", \"Urban\"]\n",
    "print(poverty)\n",
    "\n",
    "# create bar chart\n",
    "plt.bar(x_axis, poverty, color='g', alpha=0.5, align=\"center\")\n",
    "plt.ylabel(\"Mean Percent Poverty\")\n",
    "plt.title(\"Rural v. Urban Poverty Rate\")\n",
    "plt.ylim(0,16)"
   ]
  },
  {
   "cell_type": "code",
   "execution_count": 121,
   "metadata": {},
   "outputs": [
    {
     "name": "stdout",
     "output_type": "stream",
     "text": [
      "2.1057301801208483\n",
      "0.03523649454671099\n",
      "The differences between the urban and rural are significant.\n"
     ]
    }
   ],
   "source": [
    "# create variables holding all urban data and rural data separately for t analysis\n",
    "urban = census_pd_poverty.groupby([\"label\"]).get_group(\"Urban\")\n",
    "rural = census_pd_poverty.groupby([\"label\"]).get_group(\"Rural\")\n",
    "\n",
    "# run t test\n",
    "(t_stat, p) = ttest_ind(urban[\"Poverty Rate\"], rural[\"Poverty Rate\"], equal_var=False)\n",
    "print(t_stat)\n",
    "print(np.float64(p).astype(str))\n",
    "\n",
    "if p < 0.05:\n",
    "    print(\"The differences between the urban and rural are significant.\")\n",
    "else:\n",
    "    print(\"The differences between urban and rural are due to chance.\")"
   ]
  },
  {
   "cell_type": "code",
   "execution_count": 170,
   "metadata": {},
   "outputs": [
    {
     "name": "stdout",
     "output_type": "stream",
     "text": [
      "label\n",
      "Rural    2.279046\n",
      "Urban    2.717072\n",
      "Name: Cash Public Assistance Rate, dtype: float64\n"
     ]
    },
    {
     "data": {
      "text/plain": [
       "Text(0.5,1,'Rural v. Urban Cash Assistance')"
      ]
     },
     "execution_count": 170,
     "metadata": {},
     "output_type": "execute_result"
    },
    {
     "data": {
      "image/png": "[encoded data removed]",
      "text/plain": [
       "<Figure size 432x288 with 1 Axes>"
      ]
     },
     "metadata": {
      "needs_background": "light"
     },
     "output_type": "display_data"
    }
   ],
   "source": [
    "# bar chart for cash public assistance\n",
    "# set variable to hold the mean of cash public assistance rate by urban/rural\n",
    "cash = census_pd_income.groupby([\"label\"]).mean()[\"Cash Public Assistance Rate\"]\n",
    "\n",
    "# set x axis\n",
    "x_axis = [\"Rural\", \"Urban\"]\n",
    "print(cash)\n",
    "\n",
    "# set bar chart\n",
    "plt.bar(x_axis, cash, color='m', alpha=0.5, align=\"center\")\n",
    "plt.ylabel(\"Mean Percent Cash Assistance\")\n",
    "plt.title(\"Rural v. Urban Cash Assistance\")"
   ]
  },
  {
   "cell_type": "code",
   "execution_count": 123,
   "metadata": {},
   "outputs": [
    {
     "name": "stdout",
     "output_type": "stream",
     "text": [
      "11.237632490809611\n",
      "3.033577767695315e-29\n",
      "The differences between the urban and rural are significant.\n",
      "<class 'numpy.float64'>\n"
     ]
    }
   ],
   "source": [
    "# create variables holding all urban data and rural data separately for t analysis\n",
    "urban = census_pd_income.groupby([\"label\"]).get_group(\"Urban\")\n",
    "rural = census_pd_income.groupby([\"label\"]).get_group(\"Rural\")\n",
    "\n",
    "# create t test\n",
    "(t_stat, p) = ttest_ind(urban[\"Cash Public Assistance Rate\"], rural[\"Cash Public Assistance Rate\"], equal_var=False)\n",
    "print(t_stat)\n",
    "print(np.float64(p).astype(str))\n",
    "\n",
    "if p < 0.05:\n",
    "    print(\"The differences between the urban and rural are significant.\")\n",
    "else:\n",
    "    print(\"The differences between urban and rural are due to chance.\")   "
   ]
  },
  {
   "cell_type": "code",
   "execution_count": 124,
   "metadata": {
    "scrolled": true
   },
   "outputs": [
    {
     "name": "stdout",
     "output_type": "stream",
     "text": [
      "label\n",
      "Rural    7.271844\n",
      "Urban    7.199502\n",
      "Name: Less than 10k rate, dtype: float64\n"
     ]
    },
    {
     "data": {
      "text/plain": [
       "Text(0.5,1,'Rural v. Urban 10K or Less')"
      ]
     },
     "execution_count": 124,
     "metadata": {},
     "output_type": "execute_result"
    },
    {
     "data": {
      "image/png": "[encoded data removed]",
      "text/plain": [
       "<Figure size 432x288 with 1 Axes>"
      ]
     },
     "metadata": {
      "needs_background": "light"
     },
     "output_type": "display_data"
    }
   ],
   "source": [
    "# bar chart for less than 10k rate\n",
    "# set variable to hold the mean of less than 10k rate by urban/rural\n",
    "cash = census_pd_income.groupby([\"label\"]).mean()[\"Less than 10k rate\"]\n",
    "\n",
    "x_axis = [\"Rural\", \"Urban\"]\n",
    "\n",
    "print(cash)\n",
    "\n",
    "plt.bar(x_axis, cash, color='b', alpha=0.5, align=\"center\")\n",
    "plt.ylabel(\"Mean Percent 10k or Less\")\n",
    "plt.title(\"Rural v. Urban 10K or Less\")"
   ]
  },
  {
   "cell_type": "code",
   "execution_count": 125,
   "metadata": {},
   "outputs": [
    {
     "name": "stdout",
     "output_type": "stream",
     "text": [
      "-0.909163687282189\n",
      "0.36327082327538596\n",
      "The differences between urban and rural are due to chance.\n"
     ]
    }
   ],
   "source": [
    "# create variables holding all urban data and rural data separately for t analysis\n",
    "urban = census_pd_income.groupby([\"label\"]).get_group(\"Urban\")\n",
    "rural = census_pd_income.groupby([\"label\"]).get_group(\"Rural\")\n",
    "\n",
    "# create t test to see if significant\n",
    "(t_stat, p) = ttest_ind(urban[\"Less than 10k rate\"], rural[\"Less than 10k rate\"], equal_var=False)\n",
    "print(t_stat)\n",
    "print(np.float64(p).astype(str))\n",
    "\n",
    "if p < 0.05:\n",
    "    print(\"The differences between the urban and rural are significant.\")\n",
    "else:\n",
    "    print(\"The differences between urban and rural are due to chance.\")"
   ]
  },
  {
   "cell_type": "code",
   "execution_count": 171,
   "metadata": {},
   "outputs": [
    {
     "name": "stdout",
     "output_type": "stream",
     "text": [
      "label\n",
      "Rural    2.575530\n",
      "Urban    6.023689\n",
      "Name: over 200k rate, dtype: float64\n"
     ]
    },
    {
     "data": {
      "text/plain": [
       "Text(0.5,1,'Rural v. Urban 200k or more')"
      ]
     },
     "execution_count": 171,
     "metadata": {},
     "output_type": "execute_result"
    },
    {
     "data": {
      "image/png": "[encoded data removed]",
      "text/plain": [
       "<Figure size 432x288 with 1 Axes>"
      ]
     },
     "metadata": {
      "needs_background": "light"
     },
     "output_type": "display_data"
    }
   ],
   "source": [
    "# bar chart for over 200k\n",
    "# set variable to hold the mean of over 200k rate by urban/rural\n",
    "cash = census_pd_income.groupby([\"label\"]).mean()[\"over 200k rate\"]\n",
    "\n",
    "# x = axis\n",
    "x_axis = [\"Rural\", \"Urban\"]\n",
    "print(cash)\n",
    "\n",
    "# create bar chart\n",
    "plt.bar(x_axis, cash, color='c', alpha=0.5, align=\"center\")\n",
    "plt.ylabel(\"Mean Percent 200k or more\")\n",
    "plt.title(\"Rural v. Urban 200k or more\")"
   ]
  },
  {
   "cell_type": "code",
   "execution_count": 127,
   "metadata": {},
   "outputs": [
    {
     "name": "stdout",
     "output_type": "stream",
     "text": [
      "43.50137082321496\n",
      "0.0\n",
      "The differences between the urban and rural are significant.\n",
      "<class 'numpy.float64'>\n"
     ]
    }
   ],
   "source": [
    "# create variables holding all urban data and rural data separately for t analysis\n",
    "urban = census_pd_income.groupby([\"label\"]).get_group(\"Urban\")\n",
    "rural = census_pd_income.groupby([\"label\"]).get_group(\"Rural\")\n",
    "\n",
    "# t test for significance\n",
    "(t_stat, p) = ttest_ind(urban[\"over 200k rate\"], rural[\"over 200k rate\"], equal_var=False)\n",
    "print(t_stat)\n",
    "print(np.float64(p).astype(str))\n",
    "\n",
    "if p < 0.05:\n",
    "    print(\"The differences between the urban and rural are significant.\")\n",
    "else:\n",
    "    print(\"The differences between urban and rural are due to chance.\")"
   ]
  },
  {
   "cell_type": "code",
   "execution_count": 172,
   "metadata": {},
   "outputs": [
    {
     "name": "stdout",
     "output_type": "stream",
     "text": [
      "label\n",
      "Rural    26.790476\n",
      "Urban    22.801210\n",
      "Name: 25k to 50k rate, dtype: float64\n"
     ]
    },
    {
     "data": {
      "text/plain": [
       "Text(0.5,1,'Rural v. Urban 25k to 50k')"
      ]
     },
     "execution_count": 172,
     "metadata": {},
     "output_type": "execute_result"
    },
    {
     "data": {
      "image/png": "[encoded data removed]",
      "text/plain": [
       "<Figure size 432x288 with 1 Axes>"
      ]
     },
     "metadata": {
      "needs_background": "light"
     },
     "output_type": "display_data"
    }
   ],
   "source": [
    "# bar chart for 2k5 to 50k\n",
    "# set variable to hold the mean of 20k to 50k rate by urban/rural\n",
    "cash = census_pd_income.groupby([\"label\"]).mean()[\"25k to 50k rate\"]\n",
    "\n",
    "# set x axis\n",
    "x_axis = [\"Rural\", \"Urban\"]\n",
    "print(cash)\n",
    "\n",
    "# create bar\n",
    "plt.bar(x_axis, cash, color='black', alpha=0.5, align=\"center\")\n",
    "plt.ylabel(\"Mean Percent 25k to 50k\")\n",
    "plt.title(\"Rural v. Urban 25k to 50k\")"
   ]
  },
  {
   "cell_type": "code",
   "execution_count": 129,
   "metadata": {},
   "outputs": [
    {
     "name": "stdout",
     "output_type": "stream",
     "text": [
      "-35.98984746623201\n",
      "3.6819444180937356e-278\n",
      "The differences between the urban and rural are significant.\n"
     ]
    }
   ],
   "source": [
    "# create variables holding all urban data and rural data separately for t analysis\n",
    "urban = census_pd_income.groupby([\"label\"]).get_group(\"Urban\")\n",
    "rural = census_pd_income.groupby([\"label\"]).get_group(\"Rural\")\n",
    "\n",
    "# t-test\n",
    "(t_stat, p) = ttest_ind(urban[\"25k to 50k rate\"], rural[\"25k to 50k rate\"], equal_var=False)\n",
    "print(t_stat)\n",
    "print(np.float64(p).astype(str))\n",
    "\n",
    "if p < 0.05:\n",
    "    print(\"The differences between the urban and rural are significant.\")\n",
    "else:\n",
    "    print(\"The differences between urban and rural are due to chance.\")"
   ]
  },
  {
   "cell_type": "code",
   "execution_count": 130,
   "metadata": {},
   "outputs": [
    {
     "name": "stdout",
     "output_type": "stream",
     "text": [
      "label\n",
      "Rural    0.894011\n",
      "Urban    1.271250\n",
      "Name: No schooling rate, dtype: float64\n"
     ]
    },
    {
     "data": {
      "text/plain": [
       "Text(0.5,1,'Rural v. Urban No School')"
      ]
     },
     "execution_count": 130,
     "metadata": {},
     "output_type": "execute_result"
    },
    {
     "data": {
      "image/png": "[encoded data removed]",
      "text/plain": [
       "<Figure size 432x288 with 1 Axes>"
      ]
     },
     "metadata": {
      "needs_background": "light"
     },
     "output_type": "display_data"
    }
   ],
   "source": [
    "# bar chart for no school\n",
    "# set variable to hold the mean of no school rate by urban/rural\n",
    "nosch = census_pd_educ.groupby([\"label\"]).mean()[\"No schooling rate\"]\n",
    "\n",
    "# set x axis\n",
    "x_axis = [\"Rural\", \"Urban\"]\n",
    "print(nosch)\n",
    "\n",
    "# create bar chart\n",
    "plt.bar(x_axis, nosch, color='b', alpha=0.5, align=\"center\")\n",
    "plt.ylabel(\"Mean Percent No School\")\n",
    "plt.title(\"Rural v. Urban No School\")"
   ]
  },
  {
   "cell_type": "code",
   "execution_count": 131,
   "metadata": {},
   "outputs": [
    {
     "name": "stdout",
     "output_type": "stream",
     "text": [
      "17.8875749216598\n",
      "3.2405178404832572e-71\n",
      "The differences between the urban and rural are significant.\n"
     ]
    }
   ],
   "source": [
    "# create variables holding all urban data and rural data separately for t analysis\n",
    "urban = census_pd_educ.groupby([\"label\"]).get_group(\"Urban\")\n",
    "rural = census_pd_educ.groupby([\"label\"]).get_group(\"Rural\")\n",
    "\n",
    "# run t test \n",
    "(t_stat, p) = ttest_ind(urban[\"No schooling rate\"], rural[\"No schooling rate\"], equal_var=False)\n",
    "print(t_stat)\n",
    "print(np.float64(p).astype(str))\n",
    "\n",
    "if p < 0.05:\n",
    "    print(\"The differences between the urban and rural are significant.\")\n",
    "else:\n",
    "    print(\"The differences between urban and rural are due to chance.\")"
   ]
  },
  {
   "cell_type": "code",
   "execution_count": 132,
   "metadata": {},
   "outputs": [
    {
     "name": "stdout",
     "output_type": "stream",
     "text": [
      "label\n",
      "Rural    18.058370\n",
      "Urban    30.761606\n",
      "Name: bachelor or higher rate, dtype: float64\n"
     ]
    },
    {
     "data": {
      "text/plain": [
       "Text(0.5,1,'Rural v. Urban Bachelor or More')"
      ]
     },
     "execution_count": 132,
     "metadata": {},
     "output_type": "execute_result"
    },
    {
     "data": {
      "image/png": "[encoded data removed]",
      "text/plain": [
       "<Figure size 432x288 with 1 Axes>"
      ]
     },
     "metadata": {
      "needs_background": "light"
     },
     "output_type": "display_data"
    }
   ],
   "source": [
    "# bar chart for bachelor or higher degree\n",
    "# set variable to hold the mean of bacholer or higher rate by urban/rural\n",
    "bach = census_pd_educ.groupby([\"label\"]).mean()[\"bachelor or higher rate\"]\n",
    "\n",
    "x_axis = [\"Rural\", \"Urban\"]\n",
    "\n",
    "print(bach)\n",
    "\n",
    "plt.bar(x_axis, bach, color='b', alpha=0.5, align=\"center\")\n",
    "plt.ylabel(\"Mean Percent Bachelor or More\")\n",
    "plt.title(\"Rural v. Urban Bachelor or More\")"
   ]
  },
  {
   "cell_type": "code",
   "execution_count": 133,
   "metadata": {},
   "outputs": [
    {
     "name": "stdout",
     "output_type": "stream",
     "text": [
      "69.34932839435545\n",
      "0.0\n",
      "The differences between the urban and rural are significant.\n"
     ]
    }
   ],
   "source": [
    "# create variables holding all urban data and rural data separately for t analysis\n",
    "urban = census_pd_educ.groupby([\"label\"]).get_group(\"Urban\")\n",
    "rural = census_pd_educ.groupby([\"label\"]).get_group(\"Rural\")\n",
    "\n",
    "# set t-test\n",
    "(t_stat, p) = ttest_ind(urban[\"bachelor or higher rate\"], rural[\"bachelor or higher rate\"], equal_var=False)\n",
    "print(t_stat)\n",
    "print(np.float64(p).astype(str))\n",
    "\n",
    "if p < 0.05:\n",
    "    print(\"The differences between the urban and rural are significant.\")\n",
    "else:\n",
    "    print(\"The differences between urban and rural are due to chance.\")"
   ]
  },
  {
   "cell_type": "code",
   "execution_count": 180,
   "metadata": {},
   "outputs": [
    {
     "name": "stdout",
     "output_type": "stream",
     "text": [
      "label\n",
      "Rural    37.941760\n",
      "Urban    27.706044\n",
      "Name: high school grad rate, dtype: float64\n"
     ]
    },
    {
     "data": {
      "text/plain": [
       "Text(0.5,1,'Rural v. Urban High School grads only')"
      ]
     },
     "execution_count": 180,
     "metadata": {},
     "output_type": "execute_result"
    },
    {
     "data": {
      "image/png": "[encoded data removed]",
      "text/plain": [
       "<Figure size 432x288 with 1 Axes>"
      ]
     },
     "metadata": {
      "needs_background": "light"
     },
     "output_type": "display_data"
    }
   ],
   "source": [
    "# bar chart for high school grad rate\n",
    "# set variable to hold the mean of high school grad rate by urban/rural\n",
    "hs = census_pd_educ.groupby([\"label\"]).mean()[\"high school grad rate\"]\n",
    "\n",
    "# create x axis\n",
    "x_axis = [\"Rural\", \"Urban\"]\n",
    "print(hs)\n",
    "\n",
    "# create bar chart\n",
    "plt.bar(x_axis, hs, color='pink', alpha=0.5, align=\"center\")\n",
    "plt.ylabel(\"Mean Percent High School grads\")\n",
    "plt.title(\"Rural v. Urban High School grads only\")"
   ]
  },
  {
   "cell_type": "code",
   "execution_count": 183,
   "metadata": {
    "scrolled": true
   },
   "outputs": [
    {
     "name": "stdout",
     "output_type": "stream",
     "text": [
      "label\n",
      "Rural    86.192577\n",
      "Urban    87.722829\n",
      "Name: high school grad and up rate, dtype: float64\n"
     ]
    },
    {
     "data": {
      "text/plain": [
       "Text(0.5,1,'Rural v. Urban High School or More')"
      ]
     },
     "execution_count": 183,
     "metadata": {},
     "output_type": "execute_result"
    },
    {
     "data": {
      "image/png": "[encoded data removed]",
      "text/plain": [
       "<Figure size 432x288 with 1 Axes>"
      ]
     },
     "metadata": {
      "needs_background": "light"
     },
     "output_type": "display_data"
    }
   ],
   "source": [
    "# bar chart for high school and up\n",
    "hs = census_pd_educ.groupby([\"label\"]).mean()[\"high school grad and up rate\"]\n",
    "\n",
    "# set x axis\n",
    "x_axis = [\"Rural\", \"Urban\"]\n",
    "print(hs)\n",
    "\n",
    "# create bar chart\n",
    "plt.bar(x_axis, hs, color='b', alpha=0.5, align=\"center\")\n",
    "plt.ylabel(\"Mean Percent High School or More\")\n",
    "plt.title(\"Rural v. Urban High School or More\")"
   ]
  },
  {
   "cell_type": "code",
   "execution_count": 182,
   "metadata": {},
   "outputs": [
    {
     "name": "stdout",
     "output_type": "stream",
     "text": [
      "13.437854373136037\n",
      "4.774852108289541e-41\n",
      "The differences between the urban and rural are significant.\n"
     ]
    }
   ],
   "source": [
    "# create variables holding all urban data and rural data separately for t analysis\n",
    "urban = census_pd_educ.groupby([\"label\"]).get_group(\"Urban\")\n",
    "rural = census_pd_educ.groupby([\"label\"]).get_group(\"Rural\")\n",
    "\n",
    "# run t test \n",
    "(t_stat, p) = ttest_ind(urban[\"high school grad and up rate\"], rural[\"high school grad and up rate\"], equal_var=False)\n",
    "print(t_stat)\n",
    "print(np.float64(p).astype(str))\n",
    "\n",
    "if p < 0.05:\n",
    "    print(\"The differences between the urban and rural are significant.\")\n",
    "else:\n",
    "    print(\"The differences between urban and rural are due to chance.\")"
   ]
  },
  {
   "cell_type": "code",
   "execution_count": 134,
   "metadata": {},
   "outputs": [
    {
     "data": {
      "image/png": "[encoded data removed]",
      "text/plain": [
       "<Figure size 432x288 with 1 Axes>"
      ]
     },
     "metadata": {
      "needs_background": "light"
     },
     "output_type": "display_data"
    }
   ],
   "source": [
    "# create a scatter plot that works and looks pretty\n",
    "plt.scatter(census_pd_race[\"Rural Percent\"], census_pd[\"Population\"], marker='o', s=1)\n",
    "plt.xlabel(\"Rural Percent\")\n",
    "plt.ylabel(\"Population\")\n",
    "plt.show()"
   ]
  },
  {
   "cell_type": "code",
   "execution_count": 178,
   "metadata": {},
   "outputs": [
    {
     "data": {
      "image/png": "[encoded data removed]",
      "text/plain": [
       "<Figure size 432x288 with 1 Axes>"
      ]
     },
     "metadata": {
      "needs_background": "light"
     },
     "output_type": "display_data"
    }
   ],
   "source": [
    "# create disgusting scatter plot to show why the way we set-up and analyzed data didn't work out\n",
    "plt.scatter(census_pd_race[\"Rural Percent\"], census_pd_race[\"black rate\"], marker='o', s=1)\n",
    "plt.xlabel(\"Rural Percent\")\n",
    "plt.ylabel(\"African American\")\n",
    "plt.show()"
   ]
  },
  {
   "cell_type": "code",
   "execution_count": 139,
   "metadata": {},
   "outputs": [
    {
     "data": {
      "image/png": "[encoded data removed]",
      "text/plain": [
       "<Figure size 432x288 with 1 Axes>"
      ]
     },
     "metadata": {
      "needs_background": "light"
     },
     "output_type": "display_data"
    }
   ],
   "source": [
    "# another scatter example if needed\n",
    "plt.scatter(census_pd_educ[\"Rural Percent\"], census_pd_educ[\"high school grad rate\"], marker='o', s=1)\n",
    "plt.xlabel(\"Percentage Rural\")\n",
    "plt.ylabel(\"High School Grad Rate\")\n",
    "plt.ylim(0,100)\n",
    "\n",
    "plt.show()\n"
   ]
  },
  {
   "cell_type": "code",
   "execution_count": null,
   "metadata": {},
   "outputs": [],
   "source": []
  },
  {
   "cell_type": "code",
   "execution_count": 140,
   "metadata": {},
   "outputs": [],
   "source": [
    "gkey =\n",
    "\n",
    "# Configure gmaps with API key\n",
    "gmaps.configure(api_key=gkey)"
   ]
  },
  {
   "cell_type": "code",
   "execution_count": 141,
   "metadata": {},
   "outputs": [],
   "source": [
    "# Store 'Lat' and 'Lng' into  locations \n",
    "locations = census_pd_educ[[\"LAT\", \"LNG\"]].astype(float)\n",
    "\n",
    "\n",
    "# Convert no schooling rate to float and store\n",
    "noschool_rate = census_pd_educ[\"No schooling rate\"].astype(float)"
   ]
  },
  {
   "cell_type": "code",
   "execution_count": 142,
   "metadata": {},
   "outputs": [
    {
     "data": {
      "application/vnd.jupyter.widget-view+json": {
       "model_id": "2c8dc3efdb214225bef2fecfb1915150",
       "version_major": 2,
       "version_minor": 0
      },
      "text/plain": [
       "Figure(layout=FigureLayout(height='420px'))"
      ]
     },
     "metadata": {},
     "output_type": "display_data"
    }
   ],
   "source": [
    "# Create a poverty Heatmap layer\n",
    "fig = gmaps.figure()\n",
    "\n",
    "heat_layer = gmaps.heatmap_layer(locations, weights=(noschool_rate))\n",
    "\n",
    "# Adjust heat_layer setting to help with heatmap dissipating on zoom\n",
    "heat_layer.dissipating = False\n",
    "heat_layer.max_intensity = 400\n",
    "heat_layer.point_radius = .75\n",
    "heat_layer.opacity = .5\n",
    "#heat_layer.gradient = [\"blue\", \"red\"]\n",
    "\n",
    "fig.add_layer(heat_layer)\n",
    "\n",
    "fig\n",
    "\n",
    "##########################  Heat Map for No Schooling Rate #############################################\n",
    "# analysis: overall urban areas are significantly higher in no schooling rate\n",
    "# low schooling rate in allpalchia/coal country"
   ]
  },
  {
   "cell_type": "code",
   "execution_count": 34,
   "metadata": {},
   "outputs": [],
   "source": [
    "## heatmap with sample\n",
    "# Store 'Lat' and 'Lng' into  locations \n",
    "locations = census_pd_educ[[\"LAT\", \"LNG\"]].astype(float)\n",
    "l_samps = locations.sample(5000, replace=True)\n",
    "\n",
    "# Convert no schooling rate to float and store\n",
    "noschool_rate = census_pd_educ[\"No schooling rate\"].astype(float)\n",
    "no_samps = noschool_rate.sample(5000, replace=True)"
   ]
  },
  {
   "cell_type": "code",
   "execution_count": 35,
   "metadata": {},
   "outputs": [
    {
     "data": {
      "application/vnd.jupyter.widget-view+json": {
       "model_id": "2f08b7816a314bd7bdc0c80e75866dce",
       "version_major": 2,
       "version_minor": 0
      },
      "text/plain": [
       "Figure(layout=FigureLayout(height='420px'))"
      ]
     },
     "metadata": {},
     "output_type": "display_data"
    }
   ],
   "source": [
    "# Create a poverty Heatmap layer\n",
    "fig = gmaps.figure()\n",
    "\n",
    "heat_layer = gmaps.heatmap_layer(l_samps, weights=(no_samps))\n",
    "\n",
    "# Adjust heat_layer setting to help with heatmap dissipating on zoom\n",
    "heat_layer.dissipating = False\n",
    "heat_layer.max_intensity = 100\n",
    "heat_layer.point_radius = 1\n",
    "heat_layer.opacity = .5\n",
    "#heat_layer.gradient = [\"blue\", \"red\"]\n",
    "\n",
    "fig.add_layer(heat_layer)\n",
    "\n",
    "fig\n",
    "\n",
    "############# No School Sample of 5000 ##################################"
   ]
  },
  {
   "cell_type": "code",
   "execution_count": 36,
   "metadata": {},
   "outputs": [],
   "source": [
    "# Store 'Lat' and 'Lng' into  locations \n",
    "locations = census_pd[[\"LAT\", \"LNG\"]].astype(float)\n",
    "\n",
    "# Convert Rural Rate to float and store\n",
    "rural_rate = census_pd[\"Rural Percent\"].astype(float)"
   ]
  },
  {
   "cell_type": "code",
   "execution_count": 37,
   "metadata": {},
   "outputs": [
    {
     "data": {
      "application/vnd.jupyter.widget-view+json": {
       "model_id": "db83321dfa66430695cca202d390d4e3",
       "version_major": 2,
       "version_minor": 0
      },
      "text/plain": [
       "Figure(layout=FigureLayout(height='420px'))"
      ]
     },
     "metadata": {},
     "output_type": "display_data"
    }
   ],
   "source": [
    "# Create a poverty Heatmap layer\n",
    "fig = gmaps.figure()\n",
    "\n",
    "heat_layer = gmaps.heatmap_layer(locations, weights=(rural_rate))\n",
    "\n",
    "# Adjust heat_layer setting to help with heatmap dissipating on zoom\n",
    "heat_layer.dissipating = False\n",
    "heat_layer.max_intensity = 800\n",
    "heat_layer.point_radius =.25\n",
    "heat_layer.opacity = .5\n",
    "#heat_layer.gradient = [\"blue\", \"red\"]\n",
    "\n",
    "fig.add_layer(heat_layer)\n",
    "\n",
    "fig\n",
    "\n",
    "############### Heat Map based off of rural percentage #################\n",
    "# analysis: shows where we would see no data at all"
   ]
  },
  {
   "cell_type": "code",
   "execution_count": null,
   "metadata": {},
   "outputs": [],
   "source": []
  },
  {
   "cell_type": "code",
   "execution_count": 92,
   "metadata": {},
   "outputs": [],
   "source": [
    "# Store 'Lat' and 'Lng' into  locations \n",
    "locations = census_pd_race[[\"LAT\", \"LNG\"]].astype(float)\n",
    "\n",
    "# Convert african american Rate to float and store\n",
    "black_rate = census_pd_race[\"black rate\"].astype(float)"
   ]
  },
  {
   "cell_type": "code",
   "execution_count": 94,
   "metadata": {},
   "outputs": [
    {
     "data": {
      "application/vnd.jupyter.widget-view+json": {
       "model_id": "61d65e6afc8b4f0a80cf403265585de4",
       "version_major": 2,
       "version_minor": 0
      },
      "text/plain": [
       "Figure(layout=FigureLayout(height='420px'))"
      ]
     },
     "metadata": {},
     "output_type": "display_data"
    }
   ],
   "source": [
    "# Create a african american Heatmap layer\n",
    "fig = gmaps.figure()\n",
    "\n",
    "heat_layer = gmaps.heatmap_layer(locations, weights=(black_rate))\n",
    "\n",
    "# Adjust heat_layer setting to help with heatmap dissipating on zoom\n",
    "heat_layer.dissipating = False\n",
    "heat_layer.max_intensity = 300\n",
    "heat_layer.point_radius = .5\n",
    "heat_layer.opacity = .5\n",
    "#heat_layer.gradient = [\"blue\", \"red\"]\n",
    "\n",
    "fig.add_layer(heat_layer)\n",
    "\n",
    "fig"
   ]
  },
  {
   "cell_type": "code",
   "execution_count": 55,
   "metadata": {},
   "outputs": [],
   "source": [
    "# Store 'Lat' and 'Lng' into  locations \n",
    "locations = census_pd_vacant[[\"LAT\", \"LNG\"]].astype(float)\n",
    "\n",
    "# Convert vacant Rate to float and store\n",
    "vacant_rate = census_pd_vacant[\"Vacancy Rate\"].astype(float)"
   ]
  },
  {
   "cell_type": "code",
   "execution_count": 56,
   "metadata": {
    "scrolled": false
   },
   "outputs": [
    {
     "data": {
      "application/vnd.jupyter.widget-view+json": {
       "model_id": "f706f26abf2644b599f4ee9150b5775c",
       "version_major": 2,
       "version_minor": 0
      },
      "text/plain": [
       "Figure(layout=FigureLayout(height='420px'))"
      ]
     },
     "metadata": {},
     "output_type": "display_data"
    }
   ],
   "source": [
    "# Create a vacant Heatmap layer\n",
    "fig = gmaps.figure()\n",
    "\n",
    "heat_layer = gmaps.heatmap_layer(locations, weights=(vacant_rate))\n",
    "\n",
    "# Adjust heat_layer setting to help with heatmap dissipating on zoom\n",
    "heat_layer.dissipating = False\n",
    "heat_layer.max_intensity = 5000\n",
    "heat_layer.point_radius = 1\n",
    "heat_layer.opacity = .5\n",
    "#heat_layer.gradient = [\"blue\", \"red\"]\n",
    "\n",
    "fig.add_layer(heat_layer)\n",
    "\n",
    "fig\n",
    "\n",
    "######################### Vacancy Rate Heat Map #########################"
   ]
  },
  {
   "cell_type": "code",
   "execution_count": 176,
   "metadata": {},
   "outputs": [],
   "source": [
    "# Store 'Lat' and 'Lng' into  locations \n",
    "locations = census_pd_race[[\"LAT\", \"LNG\"]].astype(float)\n",
    "\n",
    "# Convert white Rate to float and store\n",
    "white_rate = census_pd_race[\"white rate\"].astype(float)"
   ]
  },
  {
   "cell_type": "code",
   "execution_count": 144,
   "metadata": {},
   "outputs": [
    {
     "data": {
      "application/vnd.jupyter.widget-view+json": {
       "model_id": "2f5e1146b2294cc4a48e9425f364c7b3",
       "version_major": 2,
       "version_minor": 0
      },
      "text/plain": [
       "Figure(layout=FigureLayout(height='420px'))"
      ]
     },
     "metadata": {},
     "output_type": "display_data"
    }
   ],
   "source": [
    "# Create a white Heatmap layer\n",
    "fig = gmaps.figure()\n",
    "\n",
    "heat_layer = gmaps.heatmap_layer(locations, weights=(white_rate))\n",
    "\n",
    "# Adjust heat_layer setting to help with heatmap dissipating on zoom\n",
    "heat_layer.dissipating = False\n",
    "heat_layer.max_intensity = 4000\n",
    "heat_layer.point_radius = .75\n",
    "heat_layer.opacity = .5\n",
    "#heat_layer.gradient = [\"blue\", \"red\"]\n",
    "\n",
    "fig.add_layer(heat_layer)\n",
    "\n",
    "fig"
   ]
  },
  {
   "cell_type": "code",
   "execution_count": 177,
   "metadata": {},
   "outputs": [
    {
     "data": {
      "application/vnd.jupyter.widget-view+json": {
       "model_id": "3b886f7ee2924e97850dfe468e5f1abc",
       "version_major": 2,
       "version_minor": 0
      },
      "text/plain": [
       "Figure(layout=FigureLayout(height='420px'))"
      ]
     },
     "metadata": {},
     "output_type": "display_data"
    }
   ],
   "source": [
    "# Create a white Heatmap layer for Jisan\n",
    "fig = gmaps.figure()\n",
    "\n",
    "heat_layer = gmaps.heatmap_layer(locations, weights=(white_rate))\n",
    "\n",
    "# Adjust heat_layer setting to help with heatmap dissipating on zoom\n",
    "heat_layer.dissipating = False\n",
    "heat_layer.max_intensity = 4000\n",
    "heat_layer.point_radius = .75\n",
    "heat_layer.opacity = .5\n",
    "heat_layer.gradient = [\"blue\", \"red\"]\n",
    "\n",
    "fig.add_layer(heat_layer)\n",
    "\n",
    "fig"
   ]
  },
  {
   "cell_type": "code",
   "execution_count": 145,
   "metadata": {},
   "outputs": [],
   "source": [
    "# Store 'Lat' and 'Lng' into  locations \n",
    "locations = census_pd_educ[[\"LAT\", \"LNG\"]].astype(float)\n",
    "\n",
    "# Convert bachelor or higher rate to store\n",
    "bach_rate = census_pd_educ[\"bachelor or higher rate\"].astype(float)"
   ]
  },
  {
   "cell_type": "code",
   "execution_count": 148,
   "metadata": {},
   "outputs": [
    {
     "data": {
      "application/vnd.jupyter.widget-view+json": {
       "model_id": "26e3efeb9df24095abccebac6653e0e9",
       "version_major": 2,
       "version_minor": 0
      },
      "text/plain": [
       "Figure(layout=FigureLayout(height='420px'))"
      ]
     },
     "metadata": {},
     "output_type": "display_data"
    }
   ],
   "source": [
    "# Create a bach or higher Heatmap layer\n",
    "fig = gmaps.figure()\n",
    "\n",
    "heat_layer = gmaps.heatmap_layer(locations, weights=(bach_rate))\n",
    "\n",
    "# Adjust heat_layer setting to help with heatmap dissipating on zoom\n",
    "heat_layer.dissipating = False\n",
    "heat_layer.max_intensity = 750\n",
    "heat_layer.point_radius = .5\n",
    "heat_layer.opacity = .5\n",
    "#heat_layer.gradient = [\"blue\", \"red\"]\n",
    "\n",
    "fig.add_layer(heat_layer)\n",
    "\n",
    "fig\n",
    "############### Bachelor or More Education ##########################"
   ]
  },
  {
   "cell_type": "code",
   "execution_count": 149,
   "metadata": {},
   "outputs": [],
   "source": [
    "# Store 'Lat' and 'Lng' into  locations \n",
    "locations = census_pd_educ[[\"LAT\", \"LNG\"]].astype(float)\n",
    "\n",
    "# Convert high school grad Rate to float and store\n",
    "hs_rate = census_pd_educ[\"high school grad rate\"].astype(float)"
   ]
  },
  {
   "cell_type": "code",
   "execution_count": 155,
   "metadata": {},
   "outputs": [
    {
     "data": {
      "application/vnd.jupyter.widget-view+json": {
       "model_id": "e2c2cbb06b5641f6b850a60f74bcd1de",
       "version_major": 2,
       "version_minor": 0
      },
      "text/plain": [
       "Figure(layout=FigureLayout(height='420px'))"
      ]
     },
     "metadata": {},
     "output_type": "display_data"
    }
   ],
   "source": [
    "# Create a high school grad rate Heatmap layer\n",
    "fig = gmaps.figure()\n",
    "\n",
    "heat_layer = gmaps.heatmap_layer(locations, weights=(hs_rate))\n",
    "\n",
    "# Adjust heat_layer setting to help with heatmap dissipating on zoom\n",
    "heat_layer.dissipating = False\n",
    "heat_layer.max_intensity = 2000\n",
    "heat_layer.point_radius = .75\n",
    "heat_layer.opacity = .5\n",
    "#heat_layer.gradient = [\"blue\", \"red\"]\n",
    "\n",
    "fig.add_layer(heat_layer)\n",
    "\n",
    "fig\n",
    "############### HIgh School Education ##########################"
   ]
  },
  {
   "cell_type": "code",
   "execution_count": null,
   "metadata": {},
   "outputs": [],
   "source": []
  },
  {
   "cell_type": "code",
   "execution_count": null,
   "metadata": {},
   "outputs": [],
   "source": [
    "################################## TEST CODE ##################\n",
    "#############################################################"
   ]
  },
  {
   "cell_type": "code",
   "execution_count": null,
   "metadata": {},
   "outputs": [],
   "source": [
    "#########TEST CODE#############################\n",
    "# COMMENT OUT BEFORE RUNNING ALL\n",
    "\n",
    "census_pd_educ = census_pd[[\"Zipcode\", \"LAT\", \"LNG\", \"Rural Percent\", \"Urban Percent\", \"Age Over 25\", \"No schooling rate\",\n",
    "                            \"Nurse to 8th Grade Rate\", \"some high school rate\", \"high school grad rate\", \"some college rate\",\n",
    "                            \"Associate's degree rate\", \"Bachelor's degree rate\", \"graduate degree rate\",\n",
    "                           \"high school grad and up rate\", \"bachelor or higher rate\"]]\n",
    "census_pd_educ = census_pd_educ[census_pd_educ[\"Age Over 25\"] != 0]\n",
    "\n",
    "conditions = [census_pd_educ[\"Rural Percent\"] <= 20,\n",
    "              census_pd_educ[\"Rural Percent\"] <= 40,\n",
    "              census_pd_educ[\"Rural Percent\"] <= 60,\n",
    "              census_pd_educ[\"Rural Percent\"] <= 80,\n",
    "              census_pd_educ[\"Rural Percent\"] > 80]\n",
    "\n",
    "outputs = [\"Super Urban\", \"Pretty Urban\", \"Middle\", \"Pretty Rural\", \"Super Rural\"]\n",
    "\n",
    "res = np.select(conditions, outputs, 'fill')\n",
    "census_pd_educ[\"label\"] = pd.Series(res)\n",
    "\n",
    "census_pd_educ.head()\n",
    "\n",
    "# Commute DataFrame\n",
    "census_pd_commute = census_pd[[\"Zipcode\", \"LAT\", \"LNG\", \"Rural Percent\", \"Urban Percent\", \"Average Commute\", \"Workers over 16\"]]\n",
    "census_pd_commute = census_pd_commute[census_pd_commute[\"Workers over 16\"] != 0]\n",
    "census_pd_commute.head()\n",
    "\n",
    "conditions = [census_pd_commute[\"Rural Percent\"] <= 50,\n",
    "              census_pd_commute[\"Rural Percent\"] > 50]\n",
    "\n",
    "outputs = [\"Urban\", \"Rural\"]\n",
    "\n",
    "res = np.select(conditions, outputs, 'fill')\n",
    "census_pd_commute[\"label\"] = pd.Series(res)\n",
    "\n",
    "census_pd_commute[\"label\"].value_counts()"
   ]
  },
  {
   "cell_type": "code",
   "execution_count": null,
   "metadata": {},
   "outputs": [],
   "source": [
    "from scipy.stats import sem, ttest_ind\n",
    "\n",
    "(t_stat, p) = ttest_ind(census_pd_misc[\"Rural Percent\"], census_pd_misc[\"No Health Insurance Rate\"], equal_var=False)print(t_stat)\n",
    "print(p)\n",
    "\n",
    "if p < 0.05:\n",
    "    print(\"The differences between the high and low prices are significant.\")\n",
    "else:\n",
    "    print(\"The differences between high and low prices are due to chance.\")"
   ]
  },
  {
   "cell_type": "code",
   "execution_count": null,
   "metadata": {},
   "outputs": [],
   "source": [
    "# test = census_df.groupby([\"label\"]).mean()['whatever mean variable']\n",
    "\n",
    "\n",
    "# plt.hist(urban[\"over 200k rate\"])\n",
    "\n",
    "# plt.hist(rural[\"over 200k rate\"])"
   ]
  },
  {
   "cell_type": "code",
   "execution_count": null,
   "metadata": {},
   "outputs": [],
   "source": [
    "from scipy.stats import linregress\n",
    "\n",
    "# Set line\n",
    "# Remember that the underscore stores variables that are throwaway\n",
    "# Now what if we wanted to keep them? What are they? Can someone tell us?\n",
    "(slope, intercept, rvalue , pvalue, stderr) = linregress(urban, rural)\n",
    "#(slope, intercept, _ , _, _) = linregress(x_axis, fake)\n",
    "\n",
    "fit = slope * urban + intercept\n",
    "\n",
    "print(slope)\n",
    "print(intercept)\n",
    "print(rvalue)\n",
    "print(pvalue)\n",
    "print(stderr)"
   ]
  }
 ],
 "metadata": {
  "kernelspec": {
   "display_name": "Python 3",
   "language": "python",
   "name": "python3"
  },
  "language_info": {
   "codemirror_mode": {
    "name": "ipython",
    "version": 3
   },
   "file_extension": ".py",
   "mimetype": "text/x-python",
   "name": "python",
   "nbconvert_exporter": "python",
   "pygments_lexer": "ipython3",
   "version": "3.7.0"
  }
 },
 "nbformat": 4,
 "nbformat_minor": 2
}
